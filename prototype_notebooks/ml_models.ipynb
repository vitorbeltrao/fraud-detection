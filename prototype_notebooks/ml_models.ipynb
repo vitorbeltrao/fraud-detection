{
 "cells": [
  {
   "cell_type": "markdown",
   "metadata": {},
   "source": [
    "# Experiment some machine learning models"
   ]
  },
  {
   "cell_type": "code",
   "execution_count": 1,
   "metadata": {},
   "outputs": [],
   "source": [
    "# import necessary packages\n",
    "import warnings\n",
    "warnings.filterwarnings('ignore')\n",
    "\n",
    "import logging\n",
    "import tempfile\n",
    "from io import BytesIO\n",
    "import pandas as pd\n",
    "from decimal import Decimal\n",
    "import numpy as np\n",
    "import datetime\n",
    "import mlflow\n",
    "import math\n",
    "# import matplotlib.pyplot as plt\n",
    "# import seaborn as sns\n",
    "import pickle\n",
    "import io\n",
    "import joblib\n",
    "import boto3\n",
    "from sklearn.preprocessing import StandardScaler\n",
    "from sklearn.preprocessing import OneHotEncoder\n",
    "from sklearn.impute import SimpleImputer\n",
    "\n",
    "from sklearn.compose import ColumnTransformer\n",
    "\n",
    "from sklearn.pipeline import make_pipeline\n",
    "\n",
    "from sklearn.model_selection import cross_validate, cross_val_predict\n",
    "from sklearn.model_selection import GridSearchCV\n",
    "\n",
    "from sklearn.linear_model import LogisticRegression\n",
    "from sklearn.svm import SVC\n",
    "from sklearn.linear_model import SGDClassifier\n",
    "from sklearn.tree import DecisionTreeClassifier\n",
    "from sklearn.ensemble import RandomForestClassifier\n",
    "from sklearn.naive_bayes import GaussianNB\n",
    "from sklearn.ensemble import AdaBoostClassifier\n",
    "\n",
    "from sklearn.metrics import balanced_accuracy_score, confusion_matrix, classification_report, RocCurveDisplay, roc_auc_score, precision_recall_curve\n",
    "\n",
    "from sklearn.base import BaseEstimator, TransformerMixin\n",
    "\n",
    "from imblearn.under_sampling import RandomUnderSampler\n",
    "from imblearn.pipeline import Pipeline\n",
    "\n",
    "from evidently.report import Report\n",
    "from evidently.metric_preset import DataDriftPreset, TargetDriftPreset\n",
    "from evidently.metrics import *\n",
    "\n",
    "from evidently.test_suite import TestSuite\n",
    "from evidently.tests import *"
   ]
  },
  {
   "cell_type": "code",
   "execution_count": 2,
   "metadata": {},
   "outputs": [],
   "source": [
    "# read train set as a pandas dataframe\n",
    "full_set = pd.read_csv('../data/dataset.csv')\n",
    "train_set = pd.read_csv('../data/train_set.csv')\n",
    "test_set = pd.read_csv('../data/test_set.csv')"
   ]
  },
  {
   "cell_type": "code",
   "execution_count": 7,
   "metadata": {},
   "outputs": [],
   "source": [
    "# select only the features that we are going to use\n",
    "X = train_set.drop(['fraude'], axis=1)\n",
    "y = train_set['fraude']"
   ]
  },
  {
   "cell_type": "markdown",
   "metadata": {},
   "source": [
    "# Preprocessing"
   ]
  },
  {
   "cell_type": "code",
   "execution_count": 8,
   "metadata": {},
   "outputs": [],
   "source": [
    "class CountryMapper(BaseEstimator, TransformerMixin):\n",
    "    def fit(self, X, y=None):\n",
    "        return self\n",
    "    \n",
    "    def transform(self, X):\n",
    "        def map_countries(country):\n",
    "            if country == 'BR':\n",
    "                return 'BR'\n",
    "            elif country == 'AR':\n",
    "                return 'AR'\n",
    "            elif country == 'UY':\n",
    "                return 'UY'\n",
    "            elif country == 'US':\n",
    "                return 'US'\n",
    "            else:\n",
    "                return 'outros'\n",
    "        \n",
    "        X['pais'] = X['pais'].apply(map_countries)\n",
    "        return X\n",
    "    \n",
    "    def get_feature_names_out(self, X):\n",
    "        return ['pais']"
   ]
  },
  {
   "cell_type": "code",
   "execution_count": 9,
   "metadata": {},
   "outputs": [],
   "source": [
    "qualitative_feat = ['score_1', 'entrega_doc_1']\n",
    "entrega_doc_2_feat = ['entrega_doc_2']\n",
    "entrega_doc_3_feat = ['entrega_doc_3']\n",
    "pais_feat = ['pais']\n",
    "\n",
    "# quantitative_continue_feat = [\n",
    "#     'score_2', 'score_3', 'score_4', 'score_5', 'score_6', 'score_7', 'score_9', 'score_10', 'valor_compra']\n",
    "\n",
    "quantitative_continue_feat = [\n",
    "    'score_4', 'score_9', 'score_10', 'valor_compra']\n",
    "\n",
    "qualitative_preproc = make_pipeline(\n",
    "        SimpleImputer(strategy='most_frequent'))\n",
    "\n",
    "entrega_doc_2_preproc = make_pipeline(\n",
    "        SimpleImputer(strategy='constant', fill_value='null'),\n",
    "        OneHotEncoder(drop='first'))\n",
    "\n",
    "entrega_doc_3_preproc = make_pipeline(\n",
    "        SimpleImputer(strategy='most_frequent'),\n",
    "        OneHotEncoder(drop='if_binary'))\n",
    "\n",
    "pais_preproc = make_pipeline(\n",
    "        CountryMapper(),\n",
    "        SimpleImputer(strategy='most_frequent'),\n",
    "        OneHotEncoder(drop='first'))\n",
    "\n",
    "quantitative_continue_preproc = make_pipeline(\n",
    "        SimpleImputer(strategy='median'),\n",
    "        StandardScaler())\n",
    "\n",
    "# apply the respective transformations with columntransformer method\n",
    "preprocessor = ColumnTransformer([\n",
    "    ('entrega_doc_1_feat', qualitative_preproc, qualitative_feat),\n",
    "    ('entrega_doc_2_feat', entrega_doc_2_preproc, entrega_doc_2_feat),\n",
    "    ('entrega_doc_3_feat', entrega_doc_3_preproc, entrega_doc_3_feat),\n",
    "    ('pais_feat', pais_preproc, pais_feat),\n",
    "    ('quantitative_continue_feat', quantitative_continue_preproc, quantitative_continue_feat)],\n",
    "    remainder='drop')\n",
    "\n",
    "processed_features = qualitative_feat + entrega_doc_2_feat + entrega_doc_3_feat + pais_feat + quantitative_continue_feat"
   ]
  },
  {
   "cell_type": "markdown",
   "metadata": {},
   "source": [
    "# Baseline and business return of the last model"
   ]
  },
  {
   "cell_type": "code",
   "execution_count": 10,
   "metadata": {},
   "outputs": [],
   "source": [
    "def map_score(score_fraude, threshold):\n",
    "    if score_fraude >= threshold:\n",
    "        return 1\n",
    "    else:\n",
    "        return 0\n",
    "\n",
    "# list to store the metrics\n",
    "thresholds = []\n",
    "train_balanced_accuracies = []\n",
    "test_balanced_accuracies = []\n",
    "revenue = []\n",
    "loss = []\n",
    "profit = []\n",
    "\n",
    "# create a copy\n",
    "business_return = test_set.copy()\n",
    "\n",
    "# calculate the predictions for different thresholds\n",
    "for threshold in range(101):\n",
    "    business_return[f'y_pred_last_model_{threshold}'] = business_return['score_fraude_modelo'].apply(lambda x: map_score(x, threshold))\n",
    "\n",
    "    # calculate the accuracies\n",
    "    test_balanced_accuracy = balanced_accuracy_score(business_return['fraude'], business_return[f'y_pred_last_model_{threshold}'])\n",
    "\n",
    "    # calculate the revenue\n",
    "    revenues = business_return.loc[(test_set['fraude'] == 0) &\n",
    "                                   (business_return[f'y_pred_last_model_{threshold}'] == 0)]\n",
    "    total_revenue = np.sum(revenues['valor_compra'].values)\n",
    "    total_revenue = total_revenue * 0.1\n",
    "\n",
    "    # calculate the fraud losses\n",
    "    losses = business_return.loc[(business_return['fraude'] == 1) &\n",
    "                                 (business_return[f'y_pred_last_model_{threshold}'] == 0)]\n",
    "    total_losses = np.sum(losses['valor_compra'].values)\n",
    "\n",
    "    # calculate the profit\n",
    "    total_profit = total_revenue - total_losses\n",
    "\n",
    "    # put the values in lists\n",
    "    thresholds.append(threshold)\n",
    "    test_balanced_accuracies.append(test_balanced_accuracy)\n",
    "    revenue.append(total_revenue)\n",
    "    loss.append(total_losses)\n",
    "    profit.append(total_profit)\n",
    "\n",
    "# Criar o DataFrame com as métricas\n",
    "metrics_df = pd.DataFrame({\n",
    "    'Threshold': thresholds,\n",
    "    'Test_Balanced_Accuracy': test_balanced_accuracies,\n",
    "    'Revenue': revenue,\n",
    "    'Fraud_losses': loss,\n",
    "    'Profit': profit\n",
    "})"
   ]
  },
  {
   "cell_type": "code",
   "execution_count": 11,
   "metadata": {},
   "outputs": [
    {
     "data": {
      "text/html": [
       "<div>\n",
       "<style scoped>\n",
       "    .dataframe tbody tr th:only-of-type {\n",
       "        vertical-align: middle;\n",
       "    }\n",
       "\n",
       "    .dataframe tbody tr th {\n",
       "        vertical-align: top;\n",
       "    }\n",
       "\n",
       "    .dataframe thead th {\n",
       "        text-align: right;\n",
       "    }\n",
       "</style>\n",
       "<table border=\"1\" class=\"dataframe\">\n",
       "  <thead>\n",
       "    <tr style=\"text-align: right;\">\n",
       "      <th></th>\n",
       "      <th>Threshold</th>\n",
       "      <th>Test_Balanced_Accuracy</th>\n",
       "      <th>Revenue</th>\n",
       "      <th>Fraud_losses</th>\n",
       "      <th>Profit</th>\n",
       "    </tr>\n",
       "  </thead>\n",
       "  <tbody>\n",
       "    <tr>\n",
       "      <th>0</th>\n",
       "      <td>0</td>\n",
       "      <td>0.500000</td>\n",
       "      <td>0.000</td>\n",
       "      <td>0.00</td>\n",
       "      <td>0.000</td>\n",
       "    </tr>\n",
       "    <tr>\n",
       "      <th>1</th>\n",
       "      <td>1</td>\n",
       "      <td>0.504955</td>\n",
       "      <td>2271.893</td>\n",
       "      <td>768.72</td>\n",
       "      <td>1503.173</td>\n",
       "    </tr>\n",
       "    <tr>\n",
       "      <th>2</th>\n",
       "      <td>2</td>\n",
       "      <td>0.504769</td>\n",
       "      <td>2802.762</td>\n",
       "      <td>1478.48</td>\n",
       "      <td>1324.282</td>\n",
       "    </tr>\n",
       "    <tr>\n",
       "      <th>3</th>\n",
       "      <td>3</td>\n",
       "      <td>0.506289</td>\n",
       "      <td>3452.885</td>\n",
       "      <td>1556.61</td>\n",
       "      <td>1896.275</td>\n",
       "    </tr>\n",
       "    <tr>\n",
       "      <th>4</th>\n",
       "      <td>4</td>\n",
       "      <td>0.507663</td>\n",
       "      <td>4159.779</td>\n",
       "      <td>1765.88</td>\n",
       "      <td>2393.899</td>\n",
       "    </tr>\n",
       "    <tr>\n",
       "      <th>...</th>\n",
       "      <td>...</td>\n",
       "      <td>...</td>\n",
       "      <td>...</td>\n",
       "      <td>...</td>\n",
       "      <td>...</td>\n",
       "    </tr>\n",
       "    <tr>\n",
       "      <th>96</th>\n",
       "      <td>96</td>\n",
       "      <td>0.577211</td>\n",
       "      <td>85270.137</td>\n",
       "      <td>69149.72</td>\n",
       "      <td>16120.417</td>\n",
       "    </tr>\n",
       "    <tr>\n",
       "      <th>97</th>\n",
       "      <td>97</td>\n",
       "      <td>0.564459</td>\n",
       "      <td>85840.909</td>\n",
       "      <td>71841.57</td>\n",
       "      <td>13999.339</td>\n",
       "    </tr>\n",
       "    <tr>\n",
       "      <th>98</th>\n",
       "      <td>98</td>\n",
       "      <td>0.553193</td>\n",
       "      <td>86260.620</td>\n",
       "      <td>74507.02</td>\n",
       "      <td>11753.600</td>\n",
       "    </tr>\n",
       "    <tr>\n",
       "      <th>99</th>\n",
       "      <td>99</td>\n",
       "      <td>0.545383</td>\n",
       "      <td>86748.330</td>\n",
       "      <td>76973.81</td>\n",
       "      <td>9774.520</td>\n",
       "    </tr>\n",
       "    <tr>\n",
       "      <th>100</th>\n",
       "      <td>100</td>\n",
       "      <td>0.536419</td>\n",
       "      <td>87064.055</td>\n",
       "      <td>79160.50</td>\n",
       "      <td>7903.555</td>\n",
       "    </tr>\n",
       "  </tbody>\n",
       "</table>\n",
       "<p>101 rows × 5 columns</p>\n",
       "</div>"
      ],
      "text/plain": [
       "     Threshold  Test_Balanced_Accuracy    Revenue  Fraud_losses     Profit\n",
       "0            0                0.500000      0.000          0.00      0.000\n",
       "1            1                0.504955   2271.893        768.72   1503.173\n",
       "2            2                0.504769   2802.762       1478.48   1324.282\n",
       "3            3                0.506289   3452.885       1556.61   1896.275\n",
       "4            4                0.507663   4159.779       1765.88   2393.899\n",
       "..         ...                     ...        ...           ...        ...\n",
       "96          96                0.577211  85270.137      69149.72  16120.417\n",
       "97          97                0.564459  85840.909      71841.57  13999.339\n",
       "98          98                0.553193  86260.620      74507.02  11753.600\n",
       "99          99                0.545383  86748.330      76973.81   9774.520\n",
       "100        100                0.536419  87064.055      79160.50   7903.555\n",
       "\n",
       "[101 rows x 5 columns]"
      ]
     },
     "execution_count": 11,
     "metadata": {},
     "output_type": "execute_result"
    }
   ],
   "source": [
    "metrics_df"
   ]
  },
  {
   "cell_type": "code",
   "execution_count": 12,
   "metadata": {},
   "outputs": [
    {
     "data": {
      "text/html": [
       "<div>\n",
       "<style scoped>\n",
       "    .dataframe tbody tr th:only-of-type {\n",
       "        vertical-align: middle;\n",
       "    }\n",
       "\n",
       "    .dataframe tbody tr th {\n",
       "        vertical-align: top;\n",
       "    }\n",
       "\n",
       "    .dataframe thead th {\n",
       "        text-align: right;\n",
       "    }\n",
       "</style>\n",
       "<table border=\"1\" class=\"dataframe\">\n",
       "  <thead>\n",
       "    <tr style=\"text-align: right;\">\n",
       "      <th></th>\n",
       "      <th>Threshold</th>\n",
       "      <th>Test_Balanced_Accuracy</th>\n",
       "      <th>Revenue</th>\n",
       "      <th>Fraud_losses</th>\n",
       "      <th>Profit</th>\n",
       "    </tr>\n",
       "  </thead>\n",
       "  <tbody>\n",
       "    <tr>\n",
       "      <th>79</th>\n",
       "      <td>79</td>\n",
       "      <td>0.709871</td>\n",
       "      <td>67041.923</td>\n",
       "      <td>25316.65</td>\n",
       "      <td>41725.273</td>\n",
       "    </tr>\n",
       "  </tbody>\n",
       "</table>\n",
       "</div>"
      ],
      "text/plain": [
       "    Threshold  Test_Balanced_Accuracy    Revenue  Fraud_losses     Profit\n",
       "79         79                0.709871  67041.923      25316.65  41725.273"
      ]
     },
     "execution_count": 12,
     "metadata": {},
     "output_type": "execute_result"
    }
   ],
   "source": [
    "# showing the best profit\n",
    "metrics_df.loc[(metrics_df['Profit'] == metrics_df.Profit.values.max())]"
   ]
  },
  {
   "cell_type": "markdown",
   "metadata": {},
   "source": [
    "# Setting up MLFlow Experiments"
   ]
  },
  {
   "cell_type": "code",
   "execution_count": 13,
   "metadata": {},
   "outputs": [],
   "source": [
    "# # Setting up the mlflow experiment\n",
    "# experiment_path = 'mlflow_experiments' # Defining the path of experiments in MLFlow\n",
    "# experiment_name = '19_fraud_detection' # Defining the experiment name in MLFlow\n",
    "\n",
    "# if(not(mlflow.get_experiment_by_name(experiment_name))): # If the experiment does not exist, create it\n",
    "#     mlflow.create_experiment(experiment_name)\n",
    "    \n",
    "# mlflow.set_experiment(experiment_name) # Set the current experiment to register in MLFlow"
   ]
  },
  {
   "cell_type": "code",
   "execution_count": 14,
   "metadata": {},
   "outputs": [
    {
     "ename": "AttributeError",
     "evalue": "module 'datetime' has no attribute 'today'",
     "output_type": "error",
     "traceback": [
      "\u001b[1;31m---------------------------------------------------------------------------\u001b[0m",
      "\u001b[1;31mAttributeError\u001b[0m                            Traceback (most recent call last)",
      "Cell \u001b[1;32mIn[14], line 2\u001b[0m\n\u001b[0;32m      1\u001b[0m \u001b[38;5;66;03m# Setting current date to save\u001b[39;00m\n\u001b[1;32m----> 2\u001b[0m year \u001b[38;5;241m=\u001b[39m \u001b[38;5;28mstr\u001b[39m(\u001b[43mdatetime\u001b[49m\u001b[38;5;241;43m.\u001b[39;49m\u001b[43mtoday\u001b[49m()\u001b[38;5;241m.\u001b[39myear)\n\u001b[0;32m      3\u001b[0m month \u001b[38;5;241m=\u001b[39m \u001b[38;5;28mstr\u001b[39m(datetime\u001b[38;5;241m.\u001b[39mtoday()\u001b[38;5;241m.\u001b[39mmonth)\n\u001b[0;32m      4\u001b[0m \u001b[38;5;28;01mif\u001b[39;00m \u001b[38;5;28mlen\u001b[39m(month) \u001b[38;5;241m==\u001b[39m \u001b[38;5;241m1\u001b[39m:\n",
      "\u001b[1;31mAttributeError\u001b[0m: module 'datetime' has no attribute 'today'"
     ]
    }
   ],
   "source": [
    "# Setting current date to save\n",
    "year = str(datetime.today().year)\n",
    "month = str(datetime.today().month)\n",
    "if len(month) == 1:\n",
    "    month = \"0\" + month\n",
    "day = str(datetime.today().day)\n",
    "if len(day) == 1:\n",
    "    day = \"0\" + day\n",
    "date = year + \"/\" + month + \"/\" + day "
   ]
  },
  {
   "cell_type": "markdown",
   "metadata": {},
   "source": [
    "# Training and Model Selection"
   ]
  },
  {
   "cell_type": "code",
   "execution_count": null,
   "metadata": {},
   "outputs": [],
   "source": [
    "def run_classifier_models(X, y, cv, scoring):\n",
    "    '''Função que treina os seguintes modelos de machine learning:\n",
    "    RandomForestClassifier, DecisionTreeClassifier, SGDClassifier, SVC,\n",
    "    LGBMClassifier, GaussianNB.\n",
    "    A função aplica a validação cruzada no conjunto de dados e retorna a média\n",
    "    da métrica selecionada no conjunto de treino e validação.\n",
    "    As únicas métricas ativas são Acurácia e F1 score.\n",
    "    Os experimentos com os modelos são acompanhados pelo MLflow.\n",
    "    \n",
    "    :param X: (dataframe or numpy array) \n",
    "    Dataframe ou array com o conjunto de variáveis independentes.\n",
    "    \n",
    "    :param y: (series or numpy array)\n",
    "    Coluna ou array com a variável dependente.\n",
    "    \n",
    "    :param cv: (int)\n",
    "    Determina a estratégia de divisão de validação cruzada.\n",
    "    \n",
    "    :param scoring: (str)\n",
    "    Estratégia para avaliar o desempenho do modelo de validação cruzada no conjunto de validação.\n",
    "    Deve ser passada entre aspas ao chamar a função.\n",
    "    '''\n",
    "    # 1. Instantiate the models\n",
    "    lr = LogisticRegression(random_state=42)\n",
    "    rf = RandomForestClassifier(random_state=42)\n",
    "    dt = DecisionTreeClassifier(random_state=42)\n",
    "    # sgdc = SGDClassifier(random_state=42)\n",
    "    # svc = SVC(random_state=42)\n",
    "    # gnb = GaussianNB()\n",
    "    # ada = AdaBoostClassifier(random_state=42)\n",
    "\n",
    "    # 2. train and evaluate the models\n",
    "    for model in (lr, rf, dt):\n",
    "        pipe = Pipeline(\n",
    "            steps=[('preprocessor', preprocessor),\n",
    "                   ('under', RandomUnderSampler(random_state=42)),\n",
    "                   ('classifier', model)\n",
    "            ]\n",
    "        )\n",
    "        scores = cross_validate(pipe, X, y, return_train_score=True,\n",
    "                                scoring=scoring, cv=cv)\n",
    "\n",
    "        # train and validation with accuracy\n",
    "        if scoring == 'balanced_accuracy':\n",
    "            log_train_acc = np.mean(scores['train_score'])\n",
    "            log_test_acc = np.mean(scores['test_score'])\n",
    "\n",
    "            # track the experiment with accuraccy\n",
    "            mlflow.start_run(run_name = date) \n",
    "            mlflow.log_param('Date', date) \n",
    "            mlflow.log_param('Features', X.columns)\n",
    "            # mlflow.log_param('Pre-processing', preprocessor) \n",
    "            mlflow.log_param('ML model', pipe[2])\n",
    "\n",
    "            mlflow.log_metric('Train_acc', log_train_acc)\n",
    "            mlflow.log_metric('Test_acc', log_test_acc)\n",
    "\n",
    "            mlflow.end_run()\n",
    "\n",
    "        # train and validation with f1\n",
    "        if scoring == 'f1':\n",
    "            log_train_f1 = np.mean(scores['train_score'])\n",
    "            log_test_f1 = np.mean(scores['test_score'])\n",
    "\n",
    "            # track the experiment with f1 score\n",
    "            mlflow.start_run(run_name = date) \n",
    "            mlflow.log_param('Date', date) \n",
    "            mlflow.log_param('Features', X.columns)\n",
    "            # mlflow.log_param('Pre-processing', preprocessor) \n",
    "            mlflow.log_param('ML model', pipe[2])\n",
    "\n",
    "            mlflow.log_metric('Train_f1', log_train_f1)\n",
    "            mlflow.log_metric('Test_f1', log_test_f1)\n",
    "\n",
    "            mlflow.end_run()"
   ]
  },
  {
   "cell_type": "code",
   "execution_count": null,
   "metadata": {},
   "outputs": [],
   "source": [
    "# Run classifiers\n",
    "run_classifier_models(X, y, 5, 'f1')"
   ]
  },
  {
   "cell_type": "code",
   "execution_count": null,
   "metadata": {},
   "outputs": [],
   "source": [
    "# !mlflow ui"
   ]
  },
  {
   "cell_type": "code",
   "execution_count": null,
   "metadata": {},
   "outputs": [],
   "source": [
    "# mlflow.end_run()"
   ]
  },
  {
   "cell_type": "markdown",
   "metadata": {},
   "source": [
    "# Improve the Model"
   ]
  },
  {
   "cell_type": "code",
   "execution_count": null,
   "metadata": {},
   "outputs": [
    {
     "name": "stdout",
     "output_type": "stream",
     "text": [
      "The best hyperparameters were: {'rf__max_depth': 8, 'rf__n_estimators': 150, 'under__sampling_strategy': 0.5}\n"
     ]
    }
   ],
   "source": [
    "# Hyperparameter tunning\n",
    "# 1. Instantiate the pipeline\n",
    "final_model = Pipeline(\n",
    "    steps=[\n",
    "        ('preprocessor', preprocessor), \n",
    "        ('under', RandomUnderSampler(random_state=42)),\n",
    "        ('rf', RandomForestClassifier(random_state=42))\n",
    "    ]\n",
    ")\n",
    "\n",
    "# 2. Hyperparameter interval to be tested\n",
    "param_grid = {\n",
    "    'rf__n_estimators': [150],\n",
    "    'rf__max_depth': [8],\n",
    "    'under__sampling_strategy': [0.5]\n",
    "}\n",
    "\n",
    "# 3. Training and apply grid search with cross-validation\n",
    "grid_search = GridSearchCV(\n",
    "    final_model, \n",
    "    param_grid, \n",
    "    cv=5, \n",
    "    scoring=['balanced_accuracy', 'f1', 'neg_brier_score'], \n",
    "    refit='neg_brier_score',\n",
    "    return_train_score=True)\n",
    "grid_search.fit(X, y)\n",
    "\n",
    "# Seeing the best hyperparameters for the model\n",
    "print('The best hyperparameters were:', grid_search.best_params_)"
   ]
  },
  {
   "cell_type": "code",
   "execution_count": null,
   "metadata": {},
   "outputs": [
    {
     "name": "stdout",
     "output_type": "stream",
     "text": [
      "\n",
      "Best metrics for each calculated metric:\n",
      "\n",
      "Best training balanced_accuracy: 0.7525\n",
      "Best validation balanced_accuracy: 0.7332\n",
      "Best training f1: 0.3407\n",
      "Best validation f1: 0.3209\n",
      "Best training neg_brier_score: -0.0934\n",
      "Best validation neg_brier_score: -0.0952\n"
     ]
    }
   ],
   "source": [
    "results = pd.DataFrame(grid_search.cv_results_)\n",
    "metrics = ['balanced_accuracy', 'f1', 'neg_brier_score']\n",
    "best_metrics = {}\n",
    "\n",
    "print(\"\\nBest metrics for each calculated metric:\\n\")\n",
    "for metric in metrics:\n",
    "    best_train_metric = results[f'mean_train_{metric}'][grid_search.best_index_]\n",
    "    best_val_metric = results[f'mean_test_{metric}'][grid_search.best_index_]\n",
    "    print(f\"Best training {metric}: {best_train_metric:.4f}\")\n",
    "    print(f\"Best validation {metric}: {best_val_metric:.4f}\")\n",
    "\n",
    "    best_metrics[f'train_{metric}'] = best_train_metric\n",
    "    best_metrics[f'validation_{metric}'] = best_val_metric"
   ]
  },
  {
   "cell_type": "code",
   "execution_count": null,
   "metadata": {},
   "outputs": [
    {
     "data": {
      "image/png": "[encoded data removed]",
      "text/plain": [
       "<Figure size 1000x700 with 1 Axes>"
      ]
     },
     "metadata": {},
     "output_type": "display_data"
    },
    {
     "name": "stdout",
     "output_type": "stream",
     "text": [
      "Brier score: 0.09326150867186922\n"
     ]
    }
   ],
   "source": [
    "from sklearn.calibration import calibration_curve\n",
    "\n",
    "# 1. Obter o melhor modelo do GridSearchCV\n",
    "best_model = grid_search.best_estimator_\n",
    "\n",
    "# 2. Fazer previsões de probabilidade com o melhor modelo\n",
    "y_probs = best_model.predict_proba(X)[:, 1]\n",
    "\n",
    "# 3. Calcular a curva de calibração\n",
    "prob_true, prob_pred = calibration_curve(y, y_probs, n_bins=10)\n",
    "\n",
    "# 4. Plotar a curva de calibração\n",
    "plt.figure(figsize=(10, 7))\n",
    "plt.plot(prob_pred, prob_true, marker='o', label='Curva de Calibração')\n",
    "plt.plot([0, 1], [0, 1], linestyle='--', label='Perfeitamente Calibrado')\n",
    "plt.xlabel('Probabilidade Prevista')\n",
    "plt.ylabel('Frequência Verdadeira')\n",
    "plt.title('Curva de Calibração')\n",
    "plt.legend()\n",
    "plt.show()\n",
    "\n",
    "# 5. Calcular e imprimir a pontuação de Brier\n",
    "from sklearn.metrics import brier_score_loss\n",
    "brier_score = brier_score_loss(y, y_probs)\n",
    "print(f'Brier score: {brier_score}')"
   ]
  },
  {
   "cell_type": "markdown",
   "metadata": {},
   "source": [
    "# Feature Importance and model interpretability"
   ]
  },
  {
   "cell_type": "code",
   "execution_count": null,
   "metadata": {},
   "outputs": [],
   "source": [
    "# Get the best estimator from the grid search\n",
    "rf = grid_search.best_estimator_.named_steps['rf']\n",
    "preprocessor = grid_search.best_estimator_.named_steps['preprocessor']"
   ]
  },
  {
   "cell_type": "code",
   "execution_count": null,
   "metadata": {},
   "outputs": [
    {
     "data": {
      "image/png": "[encoded data removed]",
      "text/plain": [
       "<Figure size 1000x600 with 1 Axes>"
      ]
     },
     "metadata": {},
     "output_type": "display_data"
    }
   ],
   "source": [
    "def feature_importance_rf_plot(model, preprocessor, output_image_path) -> None:\n",
    "    '''\n",
    "    Generate and export a feature importance plot for the random forest model.\n",
    "\n",
    "    Args:\n",
    "        model (RandomForestClassifier): The trained RandomForest model.\n",
    "        preprocessor (ColumnTransformer): The preprocessor used in the pipeline.\n",
    "        output_image_path (str): The path to save the output image.\n",
    "\n",
    "    Returns:\n",
    "        None\n",
    "    '''\n",
    "    # Importance based on each tree\n",
    "    global_exp = pd.DataFrame([tree.feature_importances_ for tree in model.estimators_]).T\n",
    "    global_exp.columns = [f'tree_{i+1}' for i in range(model.n_estimators)]\n",
    "\n",
    "    # Set the feature names as indices of the DataFrame\n",
    "    global_exp.index = preprocessor.get_feature_names_out()\n",
    "\n",
    "    # Calculate the mean importance of features across all trees\n",
    "    global_exp['importance'] = global_exp.mean(axis=1)\n",
    "\n",
    "    # Sort the DataFrame by the 'importance' column in descending order and\n",
    "    # plot it\n",
    "    global_exp_sorted = global_exp.sort_values(by='importance', ascending=False)\n",
    "    plt.figure(figsize=(10, 6))\n",
    "    plt.bar(global_exp_sorted.index, global_exp_sorted['importance'])\n",
    "    plt.ylabel(\"Feature importance\")\n",
    "    plt.title(\"Feature importance - Global explanations\")\n",
    "    plt.xticks(rotation=90)\n",
    "\n",
    "    # Adjust the layout to prevent cutting off elements\n",
    "    plt.tight_layout()\n",
    "\n",
    "    # Save the plot as an image file\n",
    "    plt.savefig(output_image_path)\n",
    "    plt.show()\n",
    "\n",
    "\n",
    "feature_importance_rf_plot(rf, preprocessor, 'feature_importance.png')"
   ]
  },
  {
   "cell_type": "markdown",
   "metadata": {},
   "source": [
    "# Evaluate new model in test set"
   ]
  },
  {
   "cell_type": "code",
   "execution_count": null,
   "metadata": {},
   "outputs": [],
   "source": [
    "# select only the features that we are going to use\n",
    "X_test = test_set.drop(['fraude'], axis=1)\n",
    "y_test = test_set['fraude']"
   ]
  },
  {
   "cell_type": "code",
   "execution_count": null,
   "metadata": {},
   "outputs": [],
   "source": [
    "# Evaluate final model\n",
    "final_model = grid_search.best_estimator_\n",
    "final_predictions = final_model.predict(X_test)"
   ]
  },
  {
   "cell_type": "code",
   "execution_count": null,
   "metadata": {},
   "outputs": [
    {
     "name": "stdout",
     "output_type": "stream",
     "text": [
      "              precision    recall  f1-score   support\n",
      "\n",
      "           0       0.97      0.90      0.94     21353\n",
      "           1       0.23      0.57      0.33      1147\n",
      "\n",
      "    accuracy                           0.88     22500\n",
      "   macro avg       0.60      0.73      0.63     22500\n",
      "weighted avg       0.94      0.88      0.90     22500\n",
      "\n",
      "0.7335566494232724\n"
     ]
    },
    {
     "data": {
      "image/png": "[encoded data removed]",
      "text/plain": [
       "<Figure size 640x480 with 2 Axes>"
      ]
     },
     "metadata": {},
     "output_type": "display_data"
    },
    {
     "name": "stdout",
     "output_type": "stream",
     "text": [
      "AUC: 0.7336\n",
      "\n"
     ]
    },
    {
     "data": {
      "image/png": "[encoded data removed]",
      "text/plain": [
       "<Figure size 1500x800 with 1 Axes>"
      ]
     },
     "metadata": {},
     "output_type": "display_data"
    }
   ],
   "source": [
    "# print classification report\n",
    "print(classification_report(y_test, final_predictions))\n",
    "print(balanced_accuracy_score(y_test, final_predictions))\n",
    "\n",
    "# plot confusion matrix\n",
    "fig , ax = plt.subplots()\n",
    "sns.heatmap(confusion_matrix(y_test, final_predictions, normalize='true'), annot=True, ax=ax)\n",
    "ax.set_title(\"Confusion Matrix\")\n",
    "ax.set_ylabel(\"True\")\n",
    "ax.set_xlabel(\"Predicted\")\n",
    "plt.show()\n",
    "\n",
    "# print and plot roc_auc\n",
    "print(\"AUC: {:.4f}\\n\".format(roc_auc_score(y_test, final_predictions)))\n",
    "\n",
    "plt.figure(figsize=(15, 8))\n",
    "ax = plt.gca()\n",
    "lgbm_disp = RocCurveDisplay.from_estimator(final_model, X_test, y_test, ax=ax, alpha=0.8)\n",
    "lgbm_disp.plot(ax=ax, alpha=0.8)\n",
    "plt.show()"
   ]
  },
  {
   "cell_type": "markdown",
   "metadata": {},
   "source": [
    "# Business return of the new model"
   ]
  },
  {
   "cell_type": "code",
   "execution_count": null,
   "metadata": {},
   "outputs": [],
   "source": [
    "df_pred = pd.DataFrame({'y_test': y_test, 'final_predictions': final_predictions.reshape(-1)})\n",
    "df_pred = pd.concat([X_test, df_pred], axis=1)"
   ]
  },
  {
   "cell_type": "code",
   "execution_count": null,
   "metadata": {},
   "outputs": [
    {
     "data": {
      "text/plain": [
       "45636.363"
      ]
     },
     "execution_count": 24,
     "metadata": {},
     "output_type": "execute_result"
    }
   ],
   "source": [
    "# calculate the revenue\n",
    "revenues_new_model = df_pred.loc[(df_pred['y_test'] == 0) &\n",
    "                                 (df_pred['final_predictions'] == 0)]\n",
    "total_revenue_new_model = np.sum(revenues_new_model['valor_compra'].values)\n",
    "total_revenue_new_model = total_revenue_new_model * 0.1\n",
    "\n",
    "# calculate the fraud losses\n",
    "losses_new_model = df_pred.loc[(df_pred['y_test'] == 1) &\n",
    "                               (df_pred['final_predictions'] == 0)]\n",
    "total_losses_new_model = np.sum(losses_new_model['valor_compra'].values)\n",
    "\n",
    "# calculate the profit\n",
    "total_profit_new_model = total_revenue_new_model - total_losses_new_model\n",
    "total_profit_new_model"
   ]
  },
  {
   "cell_type": "code",
   "execution_count": null,
   "metadata": {},
   "outputs": [],
   "source": [
    "total_buy_value = np.sum(test_set['valor_compra'].values)"
   ]
  },
  {
   "cell_type": "code",
   "execution_count": null,
   "metadata": {},
   "outputs": [
    {
     "name": "stdout",
     "output_type": "stream",
     "text": [
      "We increased the percentage of profit in: 0.4044866684841084 %\n"
     ]
    }
   ],
   "source": [
    "last_model_percentage = (41725.273 / total_buy_value) * 100\n",
    "new_model_percentage = (total_profit_new_model / total_buy_value) * 100\n",
    "\n",
    "print('We increased the percentage of profit in:', new_model_percentage - last_model_percentage, '%')"
   ]
  },
  {
   "cell_type": "markdown",
   "metadata": {},
   "source": [
    "# Read table in DynamoDB"
   ]
  },
  {
   "cell_type": "code",
   "execution_count": null,
   "metadata": {},
   "outputs": [
    {
     "name": "stdout",
     "output_type": "stream",
     "text": [
      "S3 authentication was created successfully.\n",
      "Reading dataset.csv from S3 bucket.\n",
      "Dataset dataset.csv loaded successfully.\n",
      "All datasets have been concatenated into a single dataframe.\n"
     ]
    }
   ],
   "source": [
    "# Configuração do cliente S3\n",
    "s3_client = boto3.client('s3')\n",
    "print('S3 authentication was created successfully.')\n",
    "\n",
    "# Nome do bucket\n",
    "BUCKET_NAME_DATA = 'ct-fraud-data-bucket'\n",
    "\n",
    "# Listar todos os arquivos no bucket\n",
    "response = s3_client.list_objects_v2(Bucket=BUCKET_NAME_DATA)\n",
    "\n",
    "# Lista para armazenar dataframes\n",
    "dataframes = []\n",
    "\n",
    "# Iterar sobre os arquivos e ler os arquivos .csv que começam com 'dataset'\n",
    "for obj in response['Contents']:\n",
    "    key = obj['Key']\n",
    "    if key.startswith('dataset') and key.endswith('.csv'):\n",
    "        print(f'Reading {key} from S3 bucket.')\n",
    "        csv_obj = s3_client.get_object(Bucket=BUCKET_NAME_DATA, Key=key)\n",
    "        df = pd.read_csv(csv_obj['Body'])\n",
    "        dataframes.append(df)\n",
    "        print(f'Dataset {key} loaded successfully.')\n",
    "\n",
    "# Concatenar todos os dataframes em um único dataframe\n",
    "unified_dataframe = pd.concat(dataframes, ignore_index=True)\n",
    "\n",
    "print('All datasets have been concatenated into a single dataframe.')"
   ]
  },
  {
   "cell_type": "code",
   "execution_count": null,
   "metadata": {},
   "outputs": [
    {
     "name": "stdout",
     "output_type": "stream",
     "text": [
      "Generate data drift report: SUCCESS\n",
      "Generate data stability report: SUCCESS\n"
     ]
    }
   ],
   "source": [
    "# Suponha que estas sejam as colunas que você deseja testar\n",
    "selected_columns = ['score_1', 'entrega_doc_1', 'entrega_doc_2', 'entrega_doc_3', 'pais', 'score_4', 'score_9', 'score_10', 'valor_compra', 'fraude']\n",
    "\n",
    "# Filtrando as colunas nos conjuntos de dados de treino e teste\n",
    "train_set_selected = train_set[selected_columns]\n",
    "test_set_selected = test_set[selected_columns]\n",
    "\n",
    "# Generate evidently data drift report\n",
    "drift_report = Report(metrics=[\n",
    "    DataDriftPreset(),\n",
    "])\n",
    "\n",
    "drift_report.run(reference_data=train_set_selected, current_data=test_set_selected)\n",
    "drift_report.save_html('data_drift_report.html')\n",
    "print('Generate data drift report: SUCCESS')\n",
    "\n",
    "# Generate evidently data stability report\n",
    "stability_tests = TestSuite(tests=[\n",
    "    TestNumberOfColumnsWithMissingValues(),\n",
    "    TestNumberOfRowsWithMissingValues(),\n",
    "    TestNumberOfConstantColumns(),\n",
    "    TestNumberOfDuplicatedRows(),\n",
    "    TestNumberOfDuplicatedColumns(),\n",
    "    TestColumnsType(),\n",
    "    TestNumberOfDriftedColumns(),\n",
    "])\n",
    "\n",
    "stability_tests.run(reference_data=train_set_selected, current_data=test_set_selected)\n",
    "stability_tests.save_html('data_stability_report.html')\n",
    "print('Generate data stability report: SUCCESS')"
   ]
  },
  {
   "cell_type": "code",
   "execution_count": 4,
   "metadata": {},
   "outputs": [
    {
     "name": "stderr",
     "output_type": "stream",
     "text": [
      "2024-06-30 05:52:58,958 - INFO - Found credentials in shared credentials file: ~/.aws/credentials\n",
      "2024-06-30 05:52:59,219 - INFO - Running data drift report...\n",
      "2024-06-30 05:53:10,940 - INFO - Data drift report uploaded to S3 at reports/data_drift_report_2024-06-30.html\n",
      "2024-06-30 05:53:10,943 - INFO - Running data stability report...\n",
      "2024-06-30 05:53:21,062 - INFO - Data stability report uploaded to S3 at reports/data_stability_report_2024-06-30.html\n"
     ]
    }
   ],
   "source": [
    "# Configure logging\n",
    "logging.basicConfig(level=logging.INFO, format='%(asctime)s - %(levelname)s - %(message)s')\n",
    "\n",
    "def generate_evidently_reports(current_dataset: pd.DataFrame, reference_dataset: pd.DataFrame, selected_columns: list, bucket_name: str):\n",
    "    \"\"\"\n",
    "    Generate data drift and stability reports using Evidently for selected columns and upload to S3.\n",
    "\n",
    "    Parameters:\n",
    "        current_dataset (pd.DataFrame): The current dataset.\n",
    "        reference_dataset (pd.DataFrame): The reference dataset.\n",
    "        selected_columns (list): List of column names to include in the reports.\n",
    "        bucket_name (str): The name of the S3 bucket where reports will be uploaded.\n",
    "    \n",
    "    Returns:\n",
    "        None\n",
    "    \"\"\"\n",
    "    # Get the current date\n",
    "    current_date = datetime.datetime.now().strftime('%Y-%m-%d')\n",
    "\n",
    "    # Initialize the S3 client\n",
    "    s3_client = boto3.client('s3')\n",
    "    \n",
    "    # Select specified columns from the datasets\n",
    "    current_dataset_selected = current_dataset[selected_columns]\n",
    "    reference_dataset_selected = reference_dataset[selected_columns]\n",
    "    \n",
    "    # Generate evidently data drift report\n",
    "    drift_report = Report(metrics=[\n",
    "        DataDriftPreset(),\n",
    "    ])\n",
    "    \n",
    "    logging.info('Running data drift report...')\n",
    "    drift_report.run(reference_data=reference_dataset_selected, current_data=current_dataset_selected)\n",
    "    \n",
    "    # Save to a temporary file and upload to S3\n",
    "    with tempfile.NamedTemporaryFile(delete=False, suffix='.html') as tmp_file:\n",
    "        drift_report.save_html(tmp_file.name)\n",
    "        s3_client.upload_file(tmp_file.name, bucket_name, f'reports/data_drift_report_{current_date}.html')\n",
    "    logging.info('Data drift report uploaded to S3 at reports/data_drift_report_%s.html', current_date)\n",
    "    \n",
    "    # Generate evidently data stability report\n",
    "    stability_tests = TestSuite(tests=[\n",
    "        TestNumberOfColumnsWithMissingValues(),\n",
    "        TestNumberOfRowsWithMissingValues(),\n",
    "        TestNumberOfConstantColumns(),\n",
    "        TestNumberOfDuplicatedRows(),\n",
    "        TestNumberOfDuplicatedColumns(),\n",
    "        TestColumnsType(),\n",
    "        TestNumberOfDriftedColumns(),\n",
    "    ])\n",
    "    \n",
    "    logging.info('Running data stability report...')\n",
    "    stability_tests.run(reference_data=reference_dataset_selected, current_data=current_dataset_selected)\n",
    "    \n",
    "    # Save to a temporary file and upload to S3\n",
    "    with tempfile.NamedTemporaryFile(delete=False, suffix='.html') as tmp_file:\n",
    "        stability_tests.save_html(tmp_file.name)\n",
    "        s3_client.upload_file(tmp_file.name, bucket_name, f'reports/data_stability_report_{current_date}.html')\n",
    "    logging.info('Data stability report uploaded to S3 at reports/data_stability_report_%s.html', current_date)\n",
    "\n",
    "# Example usage\n",
    "# Example column selection\n",
    "selected_columns = ['score_1', 'entrega_doc_1', 'entrega_doc_2', 'entrega_doc_3', 'pais', 'score_4', 'score_9', 'score_10', 'valor_compra', 'fraude']\n",
    "\n",
    "# S3 bucket name\n",
    "bucket_name = 'ct-fraud-drift-report-bucket'\n",
    "\n",
    "# Call the function\n",
    "generate_evidently_reports(train_set, test_set, selected_columns, bucket_name)\n"
   ]
  },
  {
   "cell_type": "code",
   "execution_count": null,
   "metadata": {},
   "outputs": [],
   "source": []
  }
 ],
 "metadata": {
  "kernelspec": {
   "display_name": "fraud-detection",
   "language": "python",
   "name": "python3"
  },
  "language_info": {
   "codemirror_mode": {
    "name": "ipython",
    "version": 3
   },
   "file_extension": ".py",
   "mimetype": "text/x-python",
   "name": "python",
   "nbconvert_exporter": "python",
   "pygments_lexer": "ipython3",
   "version": "3.10.11"
  }
 },
 "nbformat": 4,
 "nbformat_minor": 2
}
